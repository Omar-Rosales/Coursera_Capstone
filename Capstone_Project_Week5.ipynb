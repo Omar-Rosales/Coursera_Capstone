{
    "cells": [
        {
            "cell_type": "code",
            "execution_count": null,
            "metadata": {},
            "outputs": [],
            "source": "import numpy as np \n\nimport pandas as pd \npd.set_option('display.max_columns', None)\npd.set_option('display.max_rows', None)\n\nconda install -c conda-forge geopy --yes\nfrom geopy.geocoders import Nominatim \n\nconda install -c conda-forge folium=0.5.0 --yes\nimport folium\nprint('Libraries imported.')"
        },
        {
            "cell_type": "code",
            "execution_count": null,
            "metadata": {},
            "outputs": [],
            "source": "csv_path='https://www.toronto.ca/ext/open_data/catalog/data_set_files/2016_neighbourhood_profiles.csv'\ndf = pd.read_csv(csv_path,encoding='latin1')\nprint('Data loaded')"
        },
        {
            "cell_type": "code",
            "execution_count": null,
            "metadata": {},
            "outputs": [],
            "source": "df.head()"
        },
        {
            "cell_type": "code",
            "execution_count": null,
            "metadata": {},
            "outputs": [],
            "source": "Neighbourhoods = list(df.columns.values)\nNeighbourhoods = Neighbourhoods[5:]\nprint(Neighbourhoods)"
        },
        {
            "cell_type": "code",
            "execution_count": null,
            "metadata": {},
            "outputs": [],
            "source": "dfToronto = pd.DataFrame(index=Neighbourhoods, columns=[\"Population_2016\",\"Income_2016\"])\ndfToronto.head()"
        },
        {
            "cell_type": "code",
            "execution_count": null,
            "metadata": {},
            "outputs": [],
            "source": "# Population_2016 = Population, 2016\n# Income_2016 = Total income: Average amount ($)\n\n\nfor index, row in dfToronto.iterrows():\n    dfToronto.at[index, 'Population_2016'] = df[index][2]\n    dfToronto.at[index, 'Income_2016'] = df[index][2264]\n    \n\ndfToronto.sort_values('Income_2016')"
        },
        {
            "cell_type": "code",
            "execution_count": null,
            "metadata": {},
            "outputs": [],
            "source": ""
        }
    ],
    "metadata": {
        "kernelspec": {
            "display_name": "Python 3.6",
            "language": "python",
            "name": "python3"
        },
        "language_info": {
            "codemirror_mode": {
                "name": "ipython",
                "version": 3
            },
            "file_extension": ".py",
            "mimetype": "text/x-python",
            "name": "python",
            "nbconvert_exporter": "python",
            "pygments_lexer": "ipython3",
            "version": "3.6.9"
        }
    },
    "nbformat": 4,
    "nbformat_minor": 1
}